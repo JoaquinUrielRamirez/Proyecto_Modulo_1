{
 "cells": [
  {
   "cell_type": "markdown",
   "id": "e90ca4e1",
   "metadata": {},
   "source": [
    "# Proyecto Módulo 1"
   ]
  },
  {
   "cell_type": "markdown",
   "id": "39345a67",
   "metadata": {},
   "source": [
    "## El mejor portafolio de inversión"
   ]
  },
  {
   "cell_type": "markdown",
   "id": "eaeb0661",
   "metadata": {},
   "source": [
    "### El objetivo de este proyecto es determinar la cantidad a invertir en cada una de las siguientes acciones con el próposito de maximizar ganancias cumpliendo con los requisitos."
   ]
  },
  {
   "cell_type": "markdown",
   "id": "214e3133",
   "metadata": {},
   "source": [
    "1. La Beta total del portafolio con respecto al S&P500 no debe de ser mayor a 1.\n",
    "2. No se puede invertir más de 40% en una sola acción.\n",
    "3. Para evitar un riesgo sistémico y al ser de diferente sector cada acción se determina que se debe de invertir al menos 10% en cada una ellas.\n",
    "4. La cantidad de dinero a invertir es de $1,000,000.00"
   ]
  },
  {
   "cell_type": "markdown",
   "id": "66034ca5",
   "metadata": {},
   "source": [
    "#### El procedimiento utilizado para el cálculo de Beta son del 13 de septiembre de 2021 al 13 de septiembre de 2022.\n",
    "`Acciones consideradas.csv`\n",
    "\n",
    "La Betas quedan de la siguiente manera:"
   ]
  },
  {
   "cell_type": "markdown",
   "id": "9866b6e4",
   "metadata": {},
   "source": [
    "1. Walmart: 0.3925\n",
    "2. Alphabet: 1.3283\n",
    "3. Disney: 1.0676\n",
    "4. Tesla: 1.9019\n",
    "5. JP Morgan: 0.8720\n",
    "6. Coca Cola: 0.4653"
   ]
  },
  {
   "cell_type": "markdown",
   "id": "e306f95b",
   "metadata": {},
   "source": [
    "#### Los rendimientos esperados que conderamos en nuestros cálculos son los precios objetivo que las calificadoras les han asignado a estas empresas para un lapso de 12 meses.\n",
    "https://mx.investing.com-consensus-estimates"
   ]
  },
  {
   "cell_type": "markdown",
   "id": "47abbf06",
   "metadata": {},
   "source": [
    "Los rendimientos esperados quedan de la siguiente manera:"
   ]
  },
  {
   "cell_type": "markdown",
   "id": "50e08381",
   "metadata": {},
   "source": [
    "1. Walmart: 16.78%\n",
    "2. Alphabet: 42.6%\n",
    "3. Disney: 43.46%\n",
    "4. Tesla: 12.19%\n",
    "5. JP Morgan: 25.19%\n",
    "6. Coca Cola: 19.13%"
   ]
  },
  {
   "cell_type": "code",
   "execution_count": 12,
   "id": "b23b3d1b",
   "metadata": {},
   "outputs": [],
   "source": [
    "import scipy.optimize as opt\n",
    "import numpy as np\n",
    "import sympy as sp\n",
    "import matplotlib.pyplot as plt\n",
    "%matplotlib inline\n",
    "\n",
    "c = np.array([-0.1678, -0.426, -0.4346, -0.1219, - 0.2519, -0.1913])\n",
    "b = np.array([1000000,400000,400000,400000,400000,400000,400000,-100000,-100000,-100000,-100000,-100000,-100000,1])\n",
    "A = np.array([\n",
    "    [1,1,1,1,1,1],\n",
    "    [1,0,0,0,0,0],\n",
    "    [0,1,0,0,0,0],\n",
    "    [0,0,1,0,0,0],\n",
    "    [0,0,0,1,0,0],\n",
    "    [0,0,0,0,1,0],\n",
    "    [0,0,0,0,0,1],\n",
    "    [-1,0,0,0,0,0],\n",
    "    [0,-1,0,0,0,0],\n",
    "    [0,0,-1,0,0,0],\n",
    "    [0,0,0,-1,0,0],\n",
    "    [0,0,0,0,-1,0],\n",
    "    [0,0,0,0,0,-1],\n",
    "    [(1/1000000*0.3925),(1/1000000*1.3283),(1/1000000*1.0676), (1/1000000*1.9019), (1/1000000*0.8720), (1/1000000*0.4653)]\n",
    "])"
   ]
  },
  {
   "cell_type": "code",
   "execution_count": 13,
   "id": "c452beec",
   "metadata": {},
   "outputs": [
    {
     "data": {
      "text/plain": [
       "     con: array([], dtype=float64)\n",
       "     fun: -317135.68966603465\n",
       " message: 'Optimization terminated successfully.'\n",
       "     nit: 8\n",
       "   slack: array([1.34851900e-03, 2.99999998e+05, 2.64739285e+05, 6.89407054e-04,\n",
       "       3.00000000e+05, 2.99999994e+05, 2.35260724e+05, 1.92545018e-03,\n",
       "       3.52607149e+04, 2.99999999e+05, 2.03610063e-04, 6.08262265e-03,\n",
       "       6.47392762e+04, 1.47447721e-09])\n",
       "  status: 0\n",
       " success: True\n",
       "       x: array([100000.00192545, 135260.71488074, 399999.99931059, 100000.00020361,\n",
       "       100000.00608262, 164739.27624846])"
      ]
     },
     "execution_count": 13,
     "metadata": {},
     "output_type": "execute_result"
    }
   ],
   "source": [
    "opt.linprog(c,A,b)"
   ]
  },
  {
   "cell_type": "code",
   "execution_count": 14,
   "id": "f17abbbd",
   "metadata": {},
   "outputs": [
    {
     "data": {
      "text/plain": [
       "0.9999999934466001"
      ]
     },
     "execution_count": 14,
     "metadata": {},
     "output_type": "execute_result"
    }
   ],
   "source": [
    "100000.00192545/1000000*0.3925 + 135260.71488074/1000000*1.3283 + 399999.99987409/1000000*1.0676 + 100000.00000315/1000000*1.9019 + 100000.0000055/1000000*0.8720 + 164739.27624846/1000000*0.4653"
   ]
  },
  {
   "cell_type": "code",
   "execution_count": null,
   "id": "8f403b90",
   "metadata": {},
   "outputs": [],
   "source": []
  }
 ],
 "metadata": {
  "kernelspec": {
   "display_name": "Python 3 (ipykernel)",
   "language": "python",
   "name": "python3"
  },
  "language_info": {
   "codemirror_mode": {
    "name": "ipython",
    "version": 3
   },
   "file_extension": ".py",
   "mimetype": "text/x-python",
   "name": "python",
   "nbconvert_exporter": "python",
   "pygments_lexer": "ipython3",
   "version": "3.9.12"
  }
 },
 "nbformat": 4,
 "nbformat_minor": 5
}
